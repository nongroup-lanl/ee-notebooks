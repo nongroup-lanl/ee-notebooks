{
 "cells": [
  {
   "cell_type": "code",
   "execution_count": 4,
   "metadata": {
    "collapsed": false,
    "deletable": true,
    "editable": true
   },
   "outputs": [],
   "source": [
    "import ee\n",
    "import rasterio\n",
    "import numpy as np\n",
    "from pprint import pprint\n",
    "from IPython.display import display\n",
    "from IPython.display import Image\n",
    "import matplotlib.pyplot as plt\n",
    "from matplotlib import colors"
   ]
  },
  {
   "cell_type": "code",
   "execution_count": 10,
   "metadata": {
    "collapsed": false
   },
   "outputs": [],
   "source": [
    "from channel_classifier.internal.ee_utils import compute_error_image, download_tiff, get_landsat_image, form_labelled_image, ndvi_timeseries"
   ]
  },
  {
   "cell_type": "code",
   "execution_count": 11,
   "metadata": {
    "collapsed": false,
    "deletable": true,
    "editable": true
   },
   "outputs": [],
   "source": [
    "ee.Initialize()"
   ]
  },
  {
   "cell_type": "code",
   "execution_count": 12,
   "metadata": {
    "collapsed": true
   },
   "outputs": [],
   "source": [
    "MODIS_LABELS = ['']"
   ]
  },
  {
   "cell_type": "code",
   "execution_count": 13,
   "metadata": {
    "collapsed": false,
    "deletable": true,
    "editable": true
   },
   "outputs": [],
   "source": [
    "path, row = [7, 65] # Ucayali\n",
    "year, month, day = [2014, 9, 7]\n",
    "img = get_landsat_image(path, row, year, month, day)"
   ]
  },
  {
   "cell_type": "code",
   "execution_count": 14,
   "metadata": {
    "collapsed": false
   },
   "outputs": [
    {
     "ename": "TypeError",
     "evalue": "map() got an unexpected keyword argument 'dropNulls'",
     "output_type": "error",
     "traceback": [
      "\u001b[0;31m\u001b[0m",
      "\u001b[0;31mTypeError\u001b[0mTraceback (most recent call last)",
      "\u001b[0;32m<ipython-input-14-8649df9d67be>\u001b[0m in \u001b[0;36m<module>\u001b[0;34m()\u001b[0m\n\u001b[1;32m      3\u001b[0m \u001b[0mdataset_path\u001b[0m \u001b[0;34m=\u001b[0m \u001b[0;34m'LANDSAT/LC08/C01/T1_TOA'\u001b[0m\u001b[0;34m\u001b[0m\u001b[0m\n\u001b[1;32m      4\u001b[0m \u001b[0mcollection\u001b[0m \u001b[0;34m=\u001b[0m \u001b[0mee\u001b[0m\u001b[0;34m.\u001b[0m\u001b[0mImageCollection\u001b[0m\u001b[0;34m(\u001b[0m\u001b[0mdataset_path\u001b[0m\u001b[0;34m)\u001b[0m     \u001b[0;34m.\u001b[0m\u001b[0mfilter\u001b[0m\u001b[0;34m(\u001b[0m\u001b[0mee\u001b[0m\u001b[0;34m.\u001b[0m\u001b[0mFilter\u001b[0m\u001b[0;34m.\u001b[0m\u001b[0meq\u001b[0m\u001b[0;34m(\u001b[0m\u001b[0;34m'WRS_PATH'\u001b[0m\u001b[0;34m,\u001b[0m \u001b[0mpath\u001b[0m\u001b[0;34m)\u001b[0m\u001b[0;34m)\u001b[0m     \u001b[0;34m.\u001b[0m\u001b[0mfilter\u001b[0m\u001b[0;34m(\u001b[0m\u001b[0mee\u001b[0m\u001b[0;34m.\u001b[0m\u001b[0mFilter\u001b[0m\u001b[0;34m.\u001b[0m\u001b[0meq\u001b[0m\u001b[0;34m(\u001b[0m\u001b[0;34m'WRS_ROW'\u001b[0m\u001b[0;34m,\u001b[0m \u001b[0mrow\u001b[0m\u001b[0;34m)\u001b[0m\u001b[0;34m)\u001b[0m     \u001b[0;34m.\u001b[0m\u001b[0mfilterDate\u001b[0m\u001b[0;34m(\u001b[0m\u001b[0mstart_date\u001b[0m\u001b[0;34m,\u001b[0m \u001b[0mend_date\u001b[0m\u001b[0;34m)\u001b[0m\u001b[0;34m\u001b[0m\u001b[0m\n\u001b[0;32m----> 5\u001b[0;31m \u001b[0mndvis\u001b[0m \u001b[0;34m=\u001b[0m \u001b[0mndvi_timeseries\u001b[0m\u001b[0;34m(\u001b[0m\u001b[0mcollection\u001b[0m\u001b[0;34m)\u001b[0m\u001b[0;34m\u001b[0m\u001b[0m\n\u001b[0m",
      "\u001b[0;32m/content/datalab/notebooks/channel_classifier/internal/ee_utils.py\u001b[0m in \u001b[0;36mndvi_timeseries\u001b[0;34m(images)\u001b[0m\n\u001b[1;32m    113\u001b[0m \u001b[0;34m\u001b[0m\u001b[0m\n\u001b[1;32m    114\u001b[0m \u001b[0;32mdef\u001b[0m \u001b[0mndvi_timeseries\u001b[0m\u001b[0;34m(\u001b[0m\u001b[0mimages\u001b[0m\u001b[0;34m)\u001b[0m\u001b[0;34m:\u001b[0m\u001b[0;34m\u001b[0m\u001b[0m\n\u001b[0;32m--> 115\u001b[0;31m     \u001b[0;32mreturn\u001b[0m \u001b[0mee\u001b[0m\u001b[0;34m.\u001b[0m\u001b[0mImageCollection\u001b[0m\u001b[0;34m.\u001b[0m\u001b[0mmap\u001b[0m\u001b[0;34m(\u001b[0m\u001b[0mimages\u001b[0m\u001b[0;34m,\u001b[0m \u001b[0mndvi\u001b[0m\u001b[0;34m,\u001b[0m \u001b[0mdropNulls\u001b[0m\u001b[0;34m=\u001b[0m\u001b[0mTrue\u001b[0m\u001b[0;34m)\u001b[0m\u001b[0;34m\u001b[0m\u001b[0m\n\u001b[0m",
      "\u001b[0;31mTypeError\u001b[0m: map() got an unexpected keyword argument 'dropNulls'"
     ]
    }
   ],
   "source": [
    "start_date = '2014-01-01'\n",
    "end_date = '2018-01-01'\n",
    "dataset_path = 'LANDSAT/LC08/C01/T1_TOA'\n",
    "collection = ee.ImageCollection(dataset_path) \\\n",
    "    .filter(ee.Filter.eq('WRS_PATH', path)) \\\n",
    "    .filter(ee.Filter.eq('WRS_ROW', row)) \\\n",
    "    .filterDate(start_date, end_date)\n",
    "ndvis = ndvi_timeseries(collection)"
   ]
  },
  {
   "cell_type": "code",
   "execution_count": 15,
   "metadata": {
    "collapsed": false
   },
   "outputs": [],
   "source": [
    "import matplotlib\n",
    "from matplotlib import animation, rc\n",
    "from IPython.display import HTML\n",
    "rc('animation', html='html5')\n",
    "matplotlib.rcParams['animation.writer'] = 'avconv'\n",
    "def download_images(images):\n",
    "    ims = []\n",
    "    images_list = images.toList(images.size().getInfo())\n",
    "    for i in range(images_list.size().getInfo()):\n",
    "        image = images_list.get(i)\n",
    "        filename = download_tiff(image)\n",
    "        with rasterio.open(filename) as r:\n",
    "            im = r.read(1)\n",
    "        ims.append(im)\n",
    "    return ims\n",
    "  \n",
    "def animate_images(images):\n",
    "    fig = plt.figure(figsize=(12, 12))\n",
    "    ims = [[plt.imshow(x, cmap='BrBG', animated=True)] for x in images]\n",
    "    anim = animation.ArtistAnimation(fig, ims, interval=60, blit=True, repeat_delay=1000)\n",
    "    #anim.save('fig.mp4')\n",
    "    HTML(anim.to_html5_video())"
   ]
  },
  {
   "cell_type": "code",
   "execution_count": null,
   "metadata": {
    "collapsed": true
   },
   "outputs": [],
   "source": [
    "ims = download_images(ndvis)"
   ]
  },
  {
   "cell_type": "code",
   "execution_count": null,
   "metadata": {
    "collapsed": false
   },
   "outputs": [],
   "source": [
    "animate_images(ims)"
   ]
  },
  {
   "cell_type": "code",
   "execution_count": null,
   "metadata": {
    "collapsed": false,
    "deletable": true,
    "editable": true
   },
   "outputs": [],
   "source": [
    "vis_params = {'bands' : 'B5, B6, B4'} # XXX: bands should be a string, not list...\n",
    "url = img.getThumbUrl(vis_params)\n",
    "print(ee.Date(img.get('system:time_start')).format('Y-M-d').getInfo())"
   ]
  },
  {
   "cell_type": "code",
   "execution_count": null,
   "metadata": {
    "collapsed": false,
    "deletable": true,
    "editable": true
   },
   "outputs": [],
   "source": [
    "Image(url=url)"
   ]
  },
  {
   "cell_type": "code",
   "execution_count": null,
   "metadata": {
    "collapsed": true
   },
   "outputs": [],
   "source": [
    "used_bands = ['B{}'.format(x) for x in np.arange(1, 8)]\n",
    "stacked = form_labelled_image(path, row, year, month, day, bands=used_bands)"
   ]
  },
  {
   "cell_type": "code",
   "execution_count": null,
   "metadata": {
    "collapsed": false,
    "deletable": true,
    "editable": true
   },
   "outputs": [],
   "source": [
    "filename = download_tiff(stacked, scale=200)"
   ]
  },
  {
   "cell_type": "code",
   "execution_count": null,
   "metadata": {
    "collapsed": false,
    "deletable": true,
    "editable": true
   },
   "outputs": [],
   "source": [
    "cmap = colors.ListedColormap(['white', 'blue', 'red'])\n",
    "bounds = [0, 0.5, 1.5, 2]\n",
    "norm = colors.BoundaryNorm(bounds, cmap.N)\n",
    "with rasterio.open(filename) as r:\n",
    "    i = r.count\n",
    "    labels = r.read(i)\n",
    "    labels[labels == 0] = np.nan\n",
    "    label_values = list(np.unique(labels[~np.isnan(labels)]))\n",
    "fig, ax = plt.subplots(1, 1, figsize=(12,12))\n",
    "im = ax.imshow(labels, cmap='Set1', vmin=0)#, cmap=cmap, norm=norm)\n",
    "cb = plt.colorbar(im, ax=ax, shrink=0.5)#, label='Class label', ticks=[0, 1, 2])\n",
    "#cb.ax.set_yticklabels(label_values);"
   ]
  },
  {
   "cell_type": "code",
   "execution_count": null,
   "metadata": {
    "collapsed": false,
    "deletable": true,
    "editable": true
   },
   "outputs": [],
   "source": [
    "bands = stacked.bandNames().getInfo()\n",
    "print(bands)"
   ]
  },
  {
   "cell_type": "code",
   "execution_count": null,
   "metadata": {
    "collapsed": false,
    "deletable": true,
    "editable": true
   },
   "outputs": [],
   "source": [
    "training = stacked.sample(numPixels=10000, seed=0).select(bands).filter(ee.Filter.neq('label', 0))\n",
    "validation = stacked.sample(numPixels=10000, seed=1).select(bands).filter(ee.Filter.neq('label', 0))"
   ]
  },
  {
   "cell_type": "code",
   "execution_count": null,
   "metadata": {
    "collapsed": false,
    "deletable": true,
    "editable": true
   },
   "outputs": [],
   "source": [
    "classifier = ee.Classifier.randomForest(10).train(training, 'label')"
   ]
  },
  {
   "cell_type": "code",
   "execution_count": null,
   "metadata": {
    "collapsed": true,
    "deletable": true,
    "editable": true
   },
   "outputs": [],
   "source": [
    "classified = stacked.classify(classifier, 'classification')"
   ]
  },
  {
   "cell_type": "code",
   "execution_count": null,
   "metadata": {
    "collapsed": false,
    "deletable": true,
    "editable": true
   },
   "outputs": [],
   "source": [
    "validated = validation.classify(classifier, 'classification')\n",
    "accuracy = validated.errorMatrix('label', 'classification')\n",
    "print(accuracy.accuracy().getInfo())"
   ]
  },
  {
   "cell_type": "code",
   "execution_count": null,
   "metadata": {
    "collapsed": false
   },
   "outputs": [],
   "source": [
    "error = compute_error_image(clipped_labels, classified.clip(img.geometry()), 1)"
   ]
  },
  {
   "cell_type": "code",
   "execution_count": null,
   "metadata": {
    "collapsed": false
   },
   "outputs": [],
   "source": [
    "filename = download_tiff(error, scale=240)\n",
    "with rasterio.open(filename) as r:\n",
    "    err = r.read(1)\n",
    "fig, ax = plt.subplots(1, 1, figsize=(12,12))\n",
    "im = ax.imshow(err, cmap='RdBu_r', vmin=-1, vmax=1) #, cmap=cmap, norm=norm)\n",
    "cb = plt.colorbar(im, ax=ax, shrink=0.5, ticks=[-1, 0, 1])\n",
    "cb.ax.set_yticklabels(['Omission', '', 'Comission']);"
   ]
  },
  {
   "cell_type": "code",
   "execution_count": null,
   "metadata": {
    "collapsed": true
   },
   "outputs": [],
   "source": [
    "filename = download_tiff(classified, scale=200)"
   ]
  },
  {
   "cell_type": "code",
   "execution_count": null,
   "metadata": {
    "collapsed": false
   },
   "outputs": [],
   "source": [
    "cmap = colors.ListedColormap(['white', 'blue', 'red'])\n",
    "bounds = [0, 0.5, 1.5, 2]\n",
    "norm = colors.BoundaryNorm(bounds, cmap.N)\n",
    "with rasterio.open(filename) as r:\n",
    "    i = r.count\n",
    "    labels = r.read(i).astype(float)\n",
    "    labels[labels == 0] = np.nan\n",
    "fig, ax = plt.subplots(1, 1, figsize=(12,12))\n",
    "im = ax.imshow(labels, cmap='Set1')#, cmap=cmap, norm=norm)\n",
    "cb = plt.colorbar(im, ax=ax, shrink=0.5)#, label='Class label', ticks=[0, 1, 2])\n",
    "cb.ax.set_yticklabels(np.arange(1, 17));"
   ]
  }
 ],
 "metadata": {
  "kernelspec": {
   "display_name": "Python 2",
   "language": "python",
   "name": "python2"
  },
  "language_info": {
   "codemirror_mode": {
    "name": "ipython",
    "version": 2
   },
   "file_extension": ".py",
   "mimetype": "text/x-python",
   "name": "python",
   "nbconvert_exporter": "python",
   "pygments_lexer": "ipython2",
   "version": "2.7.12"
  }
 },
 "nbformat": 4,
 "nbformat_minor": 2
}
