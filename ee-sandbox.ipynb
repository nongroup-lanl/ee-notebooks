{
 "cells": [
  {
   "cell_type": "code",
   "execution_count": 151,
   "metadata": {
    "collapsed": false,
    "deletable": true,
    "editable": true
   },
   "outputs": [],
   "source": [
    "import ee\n",
    "import rasterio\n",
    "import numpy as np\n",
    "from pprint import pprint\n",
    "from IPython.display import display\n",
    "from IPython.display import Image\n",
    "import matplotlib.pyplot as plt\n",
    "from matplotlib import colors"
   ]
  },
  {
   "cell_type": "code",
   "execution_count": 152,
   "metadata": {
    "collapsed": false,
    "deletable": true,
    "editable": true
   },
   "outputs": [],
   "source": [
    "ee.Initialize()"
   ]
  },
  {
   "cell_type": "code",
   "execution_count": 153,
   "metadata": {
    "collapsed": true,
    "deletable": true,
    "editable": true
   },
   "outputs": [],
   "source": [
    "import urllib, tempfile, zipfile\n",
    "def download_tiff(image, scale):\n",
    "    url = ee.data.makeDownloadUrl(ee.data.getDownloadId({\n",
    "        'image': image.serialize(),\n",
    "        'scale': '%d' % scale,\n",
    "        'filePerBand': 'false',\n",
    "        'name': 'data',\n",
    "    }))\n",
    "    local_zip, headers = urllib.urlretrieve(url)\n",
    "    with zipfile.ZipFile(local_zip) as local_zipfile:\n",
    "        return local_zipfile.extract('data.tif', tempfile.mkdtemp())"
   ]
  },
  {
   "cell_type": "code",
   "execution_count": 154,
   "metadata": {
    "collapsed": false,
    "deletable": true,
    "editable": true
   },
   "outputs": [],
   "source": [
    "dataset_path = 'LANDSAT/LC08/C01/T1_TOA'\n",
    "path, row = [7, 65] # Ucayali\n",
    "#path, row = [3, 69] # RMDD\n",
    "#path, row = [76, 16] # Western AK\n",
    "#path, row = [25, 37] # Western AK\n",
    "#path, row = [25, 38] # TX/LA border\n",
    "\n",
    "start_date = '2014-01-01'\n",
    "end_date = '2015-01-01'\n",
    "\n",
    "collection = ee.ImageCollection(dataset_path) \\\n",
    "    .filter(ee.Filter.eq('WRS_PATH', path)) \\\n",
    "    .filter(ee.Filter.eq('WRS_ROW', row)) \\\n",
    "    .filterDate(start_date, end_date)"
   ]
  },
  {
   "cell_type": "code",
   "execution_count": 155,
   "metadata": {
    "collapsed": false,
    "deletable": true,
    "editable": true
   },
   "outputs": [],
   "source": [
    "cloud_thresh = ee.Number(25.0)\n",
    "filtered = collection.filterMetadata('CLOUD_COVER', 'less_than', cloud_thresh)"
   ]
  },
  {
   "cell_type": "code",
   "execution_count": 156,
   "metadata": {
    "collapsed": true,
    "deletable": true,
    "editable": true
   },
   "outputs": [],
   "source": [
    "vis_params = {'bands' : 'B5, B6, B4'} # XXX: bands should be a string, not list..."
   ]
  },
  {
   "cell_type": "code",
   "execution_count": 157,
   "metadata": {
    "collapsed": false,
    "deletable": true,
    "editable": true
   },
   "outputs": [
    {
     "name": "stdout",
     "output_type": "stream",
     "text": [
      "[u'B1', u'B2', u'B3', u'B4', u'B5', u'B6', u'B7', u'B8', u'B9', u'B10', u'B11', u'BQA']\n",
      "2014-9-7\n"
     ]
    }
   ],
   "source": [
    "img = ee.Image(filtered.sort('CLOUD_COVER').first())\n",
    "print(img.bandNames().getInfo())\n",
    "url = img.getThumbUrl(vis_params)\n",
    "print(ee.Date(img.get('system:time_start')).format('Y-M-d').getInfo())"
   ]
  },
  {
   "cell_type": "code",
   "execution_count": 158,
   "metadata": {
    "collapsed": false,
    "deletable": true,
    "editable": true
   },
   "outputs": [
    {
     "data": {
      "text/html": [
       "<img src=\"https://earthengine.googleapis.com/api/thumb?thumbid=65aa8d23c3f22c684390a9b655cab307&token=1b03e0518c9bdeb1b4b36b62fb6f4ae0\"/>"
      ],
      "text/plain": [
       "<IPython.core.display.Image object>"
      ]
     },
     "execution_count": 158,
     "metadata": {},
     "output_type": "execute_result"
    }
   ],
   "source": [
    "Image(url=url)"
   ]
  },
  {
   "cell_type": "code",
   "execution_count": 159,
   "metadata": {
    "collapsed": false,
    "deletable": true,
    "editable": true
   },
   "outputs": [],
   "source": [
    "used_bands = ['B5', 'B6', 'B4', 'B3', 'B2']\n",
    "img = img.select(used_bands)\n",
    "bands = img.bandNames().getInfo()\n",
    "water_value, lc_value = [1, 2]\n",
    "\n",
    "water = ee.Image('JRC/GSW1_0/MonthlyHistory/2014_09')\n",
    "cur = water.eq(ee.Number(2)).multiply(ee.Number(water_value))\n",
    "clipped_water = cur.clip(img.geometry())"
   ]
  },
  {
   "cell_type": "code",
   "execution_count": 160,
   "metadata": {
    "collapsed": false,
    "deletable": true,
    "editable": true
   },
   "outputs": [],
   "source": [
    "value = 11\n",
    "water_mask = clipped_water.neq(ee.Number(water_value))\n",
    "modis = ee.Image('MODIS/006/MCD12Q1/2016_01_01').select('LC_Type1').eq(ee.Number(value)).multiply(ee.Number(lc_value)).multiply(water_mask)\n",
    "clipped_modis = modis.clip(img.geometry())\n",
    "clipped_labels = clipped_water.add(clipped_modis)\n",
    "clipped_labels = clipped_labels#.multiply(clipped_labels.lte(ee.Number(lc_value)))"
   ]
  },
  {
   "cell_type": "code",
   "execution_count": 161,
   "metadata": {
    "collapsed": false,
    "deletable": true,
    "editable": true
   },
   "outputs": [],
   "source": [
    "stacked = img.select(bands).addBands(clipped_labels)\n",
    "bands = stacked.bandNames().getInfo()\n",
    "bands.remove('water')\n",
    "bands.append('label')\n",
    "stacked = stacked.rename(bands)"
   ]
  },
  {
   "cell_type": "code",
   "execution_count": 162,
   "metadata": {
    "collapsed": false,
    "deletable": true,
    "editable": true
   },
   "outputs": [],
   "source": [
    "filename = download_tiff(clipped_labels, scale=200)"
   ]
  },
  {
   "cell_type": "code",
   "execution_count": 163,
   "metadata": {
    "collapsed": false,
    "deletable": true,
    "editable": true
   },
   "outputs": [
    {
     "data": {
      "image/png": "[encoded data removed]",
      "text/plain": [
       "<matplotlib.figure.Figure at 0x7f7f7023c910>"
      ]
     },
     "metadata": {},
     "output_type": "display_data"
    }
   ],
   "source": [
    "cmap = colors.ListedColormap(['white', 'blue', 'red'])\n",
    "bounds = [0, 0.5, 1.5, 2]\n",
    "norm = colors.BoundaryNorm(bounds, cmap.N)\n",
    "with rasterio.open(filename) as r:\n",
    "    labels = r.read(1)\n",
    "#print(results.shape)\n",
    "#results = np.stack([results[4], results[3], results[2]], axis=-1)\n",
    "#print(results.shape)\n",
    "fig, ax = plt.subplots(1, 1, figsize=(12,12))\n",
    "im = ax.imshow(labels, cmap=cmap, norm=norm)\n",
    "cb = plt.colorbar(im, ax=ax, shrink=0.5, label='Class label', ticks=[0, 1, 2])\n",
    "cb.ax.set_yticklabels(['Not water', 'Water', 'Permanent Wetlands']);"
   ]
  },
  {
   "cell_type": "code",
   "execution_count": 164,
   "metadata": {
    "collapsed": false,
    "deletable": true,
    "editable": true
   },
   "outputs": [
    {
     "name": "stdout",
     "output_type": "stream",
     "text": [
      "[u'B5', u'B6', u'B4', u'B3', u'B2', 'label']\n"
     ]
    }
   ],
   "source": [
    "print(bands)"
   ]
  },
  {
   "cell_type": "code",
   "execution_count": 165,
   "metadata": {
    "collapsed": false,
    "deletable": true,
    "editable": true
   },
   "outputs": [],
   "source": [
    "training = stacked.sample(numPixels=1000, seed=0).select(bands)\n",
    "validation = stacked.sample(numPixels=1000, seed=1).select(bands)"
   ]
  },
  {
   "cell_type": "code",
   "execution_count": 166,
   "metadata": {
    "collapsed": false,
    "deletable": true,
    "editable": true
   },
   "outputs": [],
   "source": [
    "classifier = ee.Classifier.svm().train(training, 'label')"
   ]
  },
  {
   "cell_type": "code",
   "execution_count": null,
   "metadata": {
    "collapsed": true,
    "deletable": true,
    "editable": true
   },
   "outputs": [],
   "source": [
    "classified = stacked.classify(classifier, 'classification')"
   ]
  },
  {
   "cell_type": "code",
   "execution_count": null,
   "metadata": {
    "collapsed": false,
    "deletable": true,
    "editable": true
   },
   "outputs": [],
   "source": [
    "validated = validation.classify(classifier, 'classification')\n",
    "accuracy = validated.errorMatrix('label', 'classification')\n",
    "print(accuracy.accuracy().getInfo())"
   ]
  },
  {
   "cell_type": "code",
   "execution_count": null,
   "metadata": {
    "collapsed": false,
    "deletable": true,
    "editable": true
   },
   "outputs": [],
   "source": [
    "filename = download_tiff(classified.clip(img.geometry()), scale=200)"
   ]
  },
  {
   "cell_type": "code",
   "execution_count": null,
   "metadata": {
    "collapsed": false,
    "deletable": true,
    "editable": true
   },
   "outputs": [],
   "source": [
    "cmap = colors.ListedColormap(['white', 'blue', 'red'])\n",
    "bounds = [0, 0.5, 1.5, 2]\n",
    "norm = colors.BoundaryNorm(bounds, cmap.N)\n",
    "with rasterio.open(filename) as r:\n",
    "    results = r.read(1)\n",
    "#print(results.shape)\n",
    "#results = np.stack([results[4], results[3], results[2]], axis=-1)\n",
    "#print(results.shape)\n",
    "fig, ax = plt.subplots(1, 1, figsize=(12,12))\n",
    "im = plt.imshow(results, cmap=cmap, norm=norm)\n",
    "cb = plt.colorbar(im, ax=ax, shrink=0.5, label='Class label', ticks=[0, 1, 2])\n",
    "cb.ax.set_yticklabels(['Not water', 'Water', 'Barren']);"
   ]
  },
  {
   "cell_type": "code",
   "execution_count": null,
   "metadata": {
    "collapsed": false,
    "deletable": true,
    "editable": true
   },
   "outputs": [],
   "source": [
    "omission = clipped_labels.eq(ee.Number(water_value)).And(classified.neq(ee.Number(water_value))).multiply(ee.Number(-1))\n",
    "comission = clipped_labels.neq(ee.Number(water_value)).And(classified.eq(ee.Number(water_value)))\n",
    "error = omission.add(comission)\n",
    "filename = download_tiff(error, scale=240)"
   ]
  },
  {
   "cell_type": "code",
   "execution_count": null,
   "metadata": {
    "collapsed": false,
    "deletable": true,
    "editable": true
   },
   "outputs": [],
   "source": [
    "with rasterio.open(filename) as r:\n",
    "    err = r.read(1)\n",
    "fig, ax = plt.subplots(1, 1, figsize=(12,12))\n",
    "im = ax.imshow(err, cmap='RdBu_r', vmin=-1, vmax=1) #, cmap=cmap, norm=norm)\n",
    "cb = plt.colorbar(im, ax=ax, shrink=0.5, ticks=[-1, 0, 1])\n",
    "cb.ax.set_yticklabels(['Omission', '', 'Comission']);"
   ]
  },
  {
   "cell_type": "code",
   "execution_count": null,
   "metadata": {
    "collapsed": false,
    "deletable": true,
    "editable": true
   },
   "outputs": [],
   "source": [
    "fig, ax = plt.subplots(1, 1, figsize=(12,12))\n",
    "im = ax.imshow(err, cmap='RdBu_r', vmin=-1, vmax=1) #, cmap=cmap, norm=norm)\n",
    "cb = plt.colorbar(im, ax=ax, shrink=0.5, ticks=[-1, 0, 1])\n",
    "cb.ax.set_yticklabels(['Omission', '', 'Comission']);\n",
    "ax.set_xlim([800, 1100])\n",
    "ax.set_ylim([400, 100])"
   ]
  },
  {
   "cell_type": "code",
   "execution_count": null,
   "metadata": {
    "collapsed": false,
    "deletable": true,
    "editable": true
   },
   "outputs": [],
   "source": [
    "fig, ax = plt.subplots(1, 1, figsize=(12,12))\n",
    "im = plt.imshow(jrc, cmap=cmap, norm=norm)\n",
    "cb = plt.colorbar(im, ax=ax, shrink=0.5, label='Class label', ticks=[0, 1, 2])\n",
    "cb.ax.set_yticklabels(['Not water', 'Water', 'Barren']);\n",
    "ax.set_xlim([1000, 1300])\n",
    "ax.set_ylim([450, 150])"
   ]
  },
  {
   "cell_type": "code",
   "execution_count": null,
   "metadata": {
    "collapsed": false,
    "deletable": true,
    "editable": true
   },
   "outputs": [],
   "source": [
    "fig, ax = plt.subplots(1, 1, figsize=(12,12))\n",
    "im = plt.imshow(results, cmap=cmap, norm=norm)\n",
    "cb = plt.colorbar(im, ax=ax, shrink=0.5, label='Class label', ticks=[0, 1, 2])\n",
    "cb.ax.set_yticklabels(['Not water', 'Water', 'Barren']);\n",
    "ax.set_xlim([800, 1100])\n",
    "ax.set_ylim([400, 100])"
   ]
  },
  {
   "cell_type": "code",
   "execution_count": null,
   "metadata": {
    "collapsed": true,
    "deletable": true,
    "editable": true
   },
   "outputs": [],
   "source": []
  },
  {
   "cell_type": "code",
   "execution_count": null,
   "metadata": {
    "collapsed": true,
    "deletable": true,
    "editable": true
   },
   "outputs": [],
   "source": []
  }
 ],
 "metadata": {
  "kernelspec": {
   "display_name": "Python 2",
   "language": "python",
   "name": "python2"
  },
  "language_info": {
   "codemirror_mode": {
    "name": "ipython",
    "version": 2
   },
   "file_extension": ".py",
   "mimetype": "text/x-python",
   "name": "python",
   "nbconvert_exporter": "python",
   "pygments_lexer": "ipython2",
   "version": "2.7.12"
  }
 },
 "nbformat": 4,
 "nbformat_minor": 2
}
