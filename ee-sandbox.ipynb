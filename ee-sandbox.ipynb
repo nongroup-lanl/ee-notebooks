{
 "cells": [
  {
   "cell_type": "code",
   "execution_count": 391,
   "metadata": {
    "collapsed": false,
    "deletable": true,
    "editable": true
   },
   "outputs": [],
   "source": [
    "import ee\n",
    "import rasterio\n",
    "import numpy as np\n",
    "from pprint import pprint\n",
    "from IPython.display import display\n",
    "from IPython.display import Image\n",
    "import matplotlib.pyplot as plt\n",
    "from matplotlib import colors"
   ]
  },
  {
   "cell_type": "code",
   "execution_count": 392,
   "metadata": {
    "collapsed": false,
    "deletable": true,
    "editable": true
   },
   "outputs": [],
   "source": [
    "ee.Initialize()"
   ]
  },
  {
   "cell_type": "code",
   "execution_count": 393,
   "metadata": {
    "collapsed": false,
    "deletable": true,
    "editable": true
   },
   "outputs": [],
   "source": [
    "dataset_path = 'LANDSAT/LC08/C01/T1_TOA'\n",
    "#path, row = [3, 69] # RMDD\n",
    "path, row = [25, 38] # TX/LA border\n",
    "start_date = '2016-01-01'\n",
    "end_date = '2017-01-01'\n",
    "\n",
    "collection = ee.ImageCollection(dataset_path) \\\n",
    "    .filter(ee.Filter.eq('WRS_PATH', path)) \\\n",
    "    .filter(ee.Filter.eq('WRS_ROW', row)) \\\n",
    "    .filterDate(start_date, end_date)"
   ]
  },
  {
   "cell_type": "code",
   "execution_count": 394,
   "metadata": {
    "collapsed": false,
    "deletable": true,
    "editable": true
   },
   "outputs": [],
   "source": [
    "cloud_thresh = ee.Number(25.0)\n",
    "filtered = collection.filterMetadata('CLOUD_COVER', 'less_than', cloud_thresh)"
   ]
  },
  {
   "cell_type": "code",
   "execution_count": 395,
   "metadata": {
    "collapsed": true,
    "deletable": true,
    "editable": true
   },
   "outputs": [],
   "source": [
    "vis_params = {'bands' : 'B5, B6, B4'} # XXX: bands should be a string, not list..."
   ]
  },
  {
   "cell_type": "code",
   "execution_count": 396,
   "metadata": {
    "collapsed": false,
    "deletable": true,
    "editable": true
   },
   "outputs": [
    {
     "name": "stdout",
     "output_type": "stream",
     "text": [
      "[u'B1', u'B2', u'B3', u'B4', u'B5', u'B6', u'B7', u'B8', u'B9', u'B10', u'B11', u'BQA']\n"
     ]
    }
   ],
   "source": [
    "img = ee.Image(filtered.sort('CLOUD_COVER').first())\n",
    "print(img.bandNames().getInfo())\n",
    "url = img.getThumbUrl(vis_params)"
   ]
  },
  {
   "cell_type": "code",
   "execution_count": 397,
   "metadata": {
    "collapsed": false,
    "deletable": true,
    "editable": true
   },
   "outputs": [
    {
     "data": {
      "text/html": [
       "<img src=\"https://earthengine.googleapis.com/api/thumb?thumbid=a295ecb74f847e8574d1cf78166fd734&token=ecef28eedfd50092b0c386da71de2abd\"/>"
      ],
      "text/plain": [
       "<IPython.core.display.Image object>"
      ]
     },
     "execution_count": 397,
     "metadata": {},
     "output_type": "execute_result"
    }
   ],
   "source": [
    "Image(url=url)"
   ]
  },
  {
   "cell_type": "code",
   "execution_count": 398,
   "metadata": {
    "collapsed": false,
    "deletable": true,
    "editable": true
   },
   "outputs": [],
   "source": [
    "bands = ['B5', 'B6', 'B4']\n",
    "water = ee.ImageCollection('JRC/GSW1_0/MonthlyHistory')\n",
    "cur = ee.Image(water.toList(100).get(20))\n",
    "clipped = cur.clip(img.geometry())\n",
    "stacked = img.select(bands).addBands(clipped)\n",
    "bands = stacked.bandNames().getInfo()"
   ]
  },
  {
   "cell_type": "code",
   "execution_count": 399,
   "metadata": {
    "collapsed": false,
    "deletable": true,
    "editable": true
   },
   "outputs": [
    {
     "name": "stdout",
     "output_type": "stream",
     "text": [
      "[u'B5', u'B6', u'B4', u'water']\n"
     ]
    }
   ],
   "source": [
    "print(bands)"
   ]
  },
  {
   "cell_type": "code",
   "execution_count": 400,
   "metadata": {
    "collapsed": false,
    "deletable": true,
    "editable": true
   },
   "outputs": [],
   "source": [
    "training = stacked.sample(numPixels=10000, seed=0).filter(ee.Filter.neq('water', 0)).select(bands)\n",
    "validation = stacked.sample(numPixels=10000, seed=1).filter(ee.Filter.neq('water', 0)).select(bands)"
   ]
  },
  {
   "cell_type": "code",
   "execution_count": 401,
   "metadata": {
    "collapsed": false,
    "deletable": true,
    "editable": true
   },
   "outputs": [],
   "source": [
    "classifier = ee.Classifier.svm().train(training, 'water')"
   ]
  },
  {
   "cell_type": "code",
   "execution_count": 402,
   "metadata": {
    "collapsed": true,
    "deletable": true,
    "editable": true
   },
   "outputs": [],
   "source": [
    "#bands.remove('water')\n",
    "classified = stacked.classify(classifier, 'classification')"
   ]
  },
  {
   "cell_type": "code",
   "execution_count": 403,
   "metadata": {
    "collapsed": false,
    "deletable": true,
    "editable": true
   },
   "outputs": [
    {
     "name": "stdout",
     "output_type": "stream",
     "text": [
      "0.994461281221\n"
     ]
    }
   ],
   "source": [
    "validated = validation.classify(classifier, 'classification')\n",
    "accuracy = validated.errorMatrix('water', 'classification')\n",
    "print(accuracy.accuracy().getInfo())"
   ]
  },
  {
   "cell_type": "code",
   "execution_count": 404,
   "metadata": {
    "collapsed": false,
    "deletable": true,
    "editable": true
   },
   "outputs": [],
   "source": [
    "vis_params = {'bands' : 'classification'}\n",
    "url = classified.getDownloadUrl()"
   ]
  },
  {
   "cell_type": "code",
   "execution_count": 406,
   "metadata": {
    "collapsed": true
   },
   "outputs": [],
   "source": [
    "filename = download_tiff(clipped, scale=200)"
   ]
  },
  {
   "cell_type": "code",
   "execution_count": null,
   "metadata": {
    "collapsed": false
   },
   "outputs": [
    {
     "data": {
      "image/png": "[encoded data removed]",
      "text/plain": [
       "<matplotlib.figure.Figure at 0x7f51db9f9950>"
      ]
     },
     "metadata": {},
     "output_type": "display_data"
    }
   ],
   "source": [
    "cmap = colors.ListedColormap(['white', 'red', 'blue'])\n",
    "bounds = [0, 0.5, 1.5, 2]\n",
    "norm = colors.BoundaryNorm(bounds, cmap.N)\n",
    "with rasterio.open(filename) as r:\n",
    "    results = r.read(1)\n",
    "#print(results.shape)\n",
    "#results = np.stack([results[4], results[3], results[2]], axis=-1)\n",
    "#print(results.shape)\n",
    "im = plt.imshow(results, cmap=cmap, norm=norm)\n",
    "cb = plt.colorbar(im, shrink=0.5, label='Class label', ticks=[0, 1, 2])\n",
    "cb.ax.set_yticklabels(['No data', 'Not water', 'Water']);"
   ]
  },
  {
   "cell_type": "code",
   "execution_count": null,
   "metadata": {
    "collapsed": false,
    "deletable": true,
    "editable": true
   },
   "outputs": [],
   "source": [
    "filename = download_tiff(classified.clip(img.geometry()), scale=200)"
   ]
  },
  {
   "cell_type": "code",
   "execution_count": null,
   "metadata": {
    "collapsed": false
   },
   "outputs": [],
   "source": [
    "cmap = colors.ListedColormap(['red', 'blue'])\n",
    "bounds = [1, 1.5, 2]\n",
    "norm = colors.BoundaryNorm(bounds, cmap.N)\n",
    "with rasterio.open(filename) as r:\n",
    "    results = r.read(1)\n",
    "#print(results.shape)\n",
    "#results = np.stack([results[4], results[3], results[2]], axis=-1)\n",
    "#print(results.shape)\n",
    "im = plt.imshow(results, cmap=cmap, norm=norm)\n",
    "cb = plt.colorbar(im, shrink=0.5, label='Class label', ticks=[1, 2])\n",
    "cb.ax.set_yticklabels(['Not water', 'Water']);"
   ]
  },
  {
   "cell_type": "code",
   "execution_count": null,
   "metadata": {
    "collapsed": true
   },
   "outputs": [],
   "source": [
    "omission = clipped.eq(ee.Number(2)).And(classified.neq(ee.Number(2))).multiply(ee.Number(-1))\n",
    "comission = clipped.neq(ee.Number(2)).And(classified.eq(ee.Number(2)))\n",
    "error = omission.add(comission)\n",
    "filename = download_tiff(error, scale=240)"
   ]
  },
  {
   "cell_type": "code",
   "execution_count": null,
   "metadata": {
    "collapsed": false
   },
   "outputs": [],
   "source": [
    "with rasterio.open(filename) as r:\n",
    "    err = r.read(1)\n",
    "im = plt.imshow(err, cmap='RdBu_r', vmin=-1, vmax=1) #, cmap=cmap, norm=norm)\n",
    "cb = plt.colorbar(im, shrink=0.5, ticks=[-1, 0, 1])\n",
    "cb.ax.set_yticklabels(['Omission', '', 'Comission']);"
   ]
  },
  {
   "cell_type": "code",
   "execution_count": null,
   "metadata": {
    "collapsed": true
   },
   "outputs": [],
   "source": []
  }
 ],
 "metadata": {
  "kernelspec": {
   "display_name": "Python 2",
   "language": "python",
   "name": "python2"
  },
  "language_info": {
   "codemirror_mode": {
    "name": "ipython",
    "version": 2
   },
   "file_extension": ".py",
   "mimetype": "text/x-python",
   "name": "python",
   "nbconvert_exporter": "python",
   "pygments_lexer": "ipython2",
   "version": "2.7.12"
  }
 },
 "nbformat": 4,
 "nbformat_minor": 2
}
