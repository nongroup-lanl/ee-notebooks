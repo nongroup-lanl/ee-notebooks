{
 "cells": [
  {
   "cell_type": "code",
   "execution_count": 164,
   "metadata": {
    "collapsed": false,
    "deletable": true,
    "editable": true
   },
   "outputs": [],
   "source": [
    "import ee\n",
    "import rasterio\n",
    "import numpy as np\n",
    "from pprint import pprint\n",
    "from IPython.display import display\n",
    "from IPython.display import Image\n",
    "import matplotlib.pyplot as plt\n",
    "from matplotlib import colors"
   ]
  },
  {
   "cell_type": "code",
   "execution_count": 165,
   "metadata": {
    "collapsed": false,
    "deletable": true,
    "editable": true
   },
   "outputs": [],
   "source": [
    "ee.Initialize()"
   ]
  },
  {
   "cell_type": "code",
   "execution_count": 166,
   "metadata": {
    "collapsed": true,
    "deletable": true,
    "editable": true
   },
   "outputs": [],
   "source": [
    "def plot_image(image):\n",
    "    viz = image.visualize(bands=['water'], palette=['white', 'red', 'blue'])\n",
    "    im = Image(ee.data.getThumbnail({'image' : viz.serialize()}))\n",
    "    display(im)"
   ]
  },
  {
   "cell_type": "code",
   "execution_count": 167,
   "metadata": {
    "collapsed": false,
    "deletable": true,
    "editable": true
   },
   "outputs": [],
   "source": [
    "dataset_path = 'LANDSAT/LC08/C01/T1_TOA'\n",
    "path, row = [3, 69] # RMDD\n",
    "#path, row = [25, 38] # TX/LA border\n",
    "start_date = '2016-01-01'\n",
    "end_date = '2017-01-01'\n",
    "\n",
    "collection = ee.ImageCollection(dataset_path) \\\n",
    "    .filter(ee.Filter.eq('WRS_PATH', path)) \\\n",
    "    .filter(ee.Filter.eq('WRS_ROW', row)) \\\n",
    "    .filterDate(start_date, end_date)"
   ]
  },
  {
   "cell_type": "code",
   "execution_count": 168,
   "metadata": {
    "collapsed": false,
    "deletable": true,
    "editable": true
   },
   "outputs": [],
   "source": [
    "cloud_thresh = ee.Number(25.0)\n",
    "filtered = collection.filterMetadata('CLOUD_COVER', 'less_than', cloud_thresh)"
   ]
  },
  {
   "cell_type": "code",
   "execution_count": 169,
   "metadata": {
    "collapsed": true,
    "deletable": true,
    "editable": true
   },
   "outputs": [],
   "source": [
    "vis_params = {'bands' : 'B5, B6, B4'} # XXX: bands should be a string, not list..."
   ]
  },
  {
   "cell_type": "code",
   "execution_count": 170,
   "metadata": {
    "collapsed": false,
    "deletable": true,
    "editable": true
   },
   "outputs": [
    {
     "name": "stdout",
     "output_type": "stream",
     "text": [
      "[u'B1', u'B2', u'B3', u'B4', u'B5', u'B6', u'B7', u'B8', u'B9', u'B10', u'B11', u'BQA']\n"
     ]
    }
   ],
   "source": [
    "img = ee.Image(filtered.sort('CLOUD_COVER').first())\n",
    "print(img.bandNames().getInfo())\n",
    "url = img.getThumbUrl(vis_params)"
   ]
  },
  {
   "cell_type": "code",
   "execution_count": 171,
   "metadata": {
    "collapsed": false,
    "deletable": true,
    "editable": true
   },
   "outputs": [
    {
     "data": {
      "text/html": [
       "<img src=\"https://earthengine.googleapis.com/api/thumb?thumbid=2b465ba3862592fc1ef5e5b9dca0c173&token=342d1fd2ea46fb208b1136e50dd13263\"/>"
      ],
      "text/plain": [
       "<IPython.core.display.Image object>"
      ]
     },
     "execution_count": 171,
     "metadata": {},
     "output_type": "execute_result"
    }
   ],
   "source": [
    "Image(url=url)"
   ]
  },
  {
   "cell_type": "code",
   "execution_count": 172,
   "metadata": {
    "collapsed": false,
    "deletable": true,
    "editable": true
   },
   "outputs": [],
   "source": [
    "bands = ['B5', 'B6', 'B4']\n",
    "water = ee.ImageCollection('JRC/GSW1_0/MonthlyHistory')\n",
    "cur = ee.Image(water.filter(ee.Filter.eq('month', 6)).first())\n",
    "clipped = cur.clip(img.geometry())\n",
    "stacked = img.select(bands).addBands(clipped)\n",
    "bands = stacked.bandNames().getInfo()"
   ]
  },
  {
   "cell_type": "code",
   "execution_count": 173,
   "metadata": {
    "collapsed": false,
    "deletable": true,
    "editable": true
   },
   "outputs": [
    {
     "data": {
      "image/png": "[encoded data removed]",
      "text/plain": [
       "<IPython.core.display.Image object>"
      ]
     },
     "metadata": {},
     "output_type": "display_data"
    }
   ],
   "source": [
    "plot_image(clipped)"
   ]
  },
  {
   "cell_type": "code",
   "execution_count": 174,
   "metadata": {
    "collapsed": false,
    "deletable": true,
    "editable": true
   },
   "outputs": [
    {
     "name": "stdout",
     "output_type": "stream",
     "text": [
      "[u'B5', u'B6', u'B4', u'water']\n"
     ]
    }
   ],
   "source": [
    "print(bands)"
   ]
  },
  {
   "cell_type": "code",
   "execution_count": 175,
   "metadata": {
    "collapsed": false,
    "deletable": true,
    "editable": true
   },
   "outputs": [],
   "source": [
    "training = stacked.sample(numPixels=10000, seed=0).filter(ee.Filter.neq('water', 0)).select(bands)\n",
    "validation = stacked.sample(numPixels=10000, seed=1).filter(ee.Filter.neq('water', 0)).select(bands)"
   ]
  },
  {
   "cell_type": "code",
   "execution_count": 176,
   "metadata": {
    "collapsed": false,
    "deletable": true,
    "editable": true
   },
   "outputs": [],
   "source": [
    "classifier = ee.Classifier.svm().train(training, 'water')"
   ]
  },
  {
   "cell_type": "code",
   "execution_count": 177,
   "metadata": {
    "collapsed": true,
    "deletable": true,
    "editable": true
   },
   "outputs": [],
   "source": [
    "#bands.remove('water')\n",
    "classified = stacked.classify(classifier, 'classification')"
   ]
  },
  {
   "cell_type": "code",
   "execution_count": 178,
   "metadata": {
    "collapsed": false,
    "deletable": true,
    "editable": true
   },
   "outputs": [
    {
     "name": "stdout",
     "output_type": "stream",
     "text": [
      "0.994336569579\n"
     ]
    }
   ],
   "source": [
    "validated = validation.classify(classifier, 'classification')\n",
    "accuracy = validated.errorMatrix('water', 'classification')\n",
    "print(accuracy.accuracy().getInfo())"
   ]
  },
  {
   "cell_type": "code",
   "execution_count": 179,
   "metadata": {
    "collapsed": false,
    "deletable": true,
    "editable": true
   },
   "outputs": [],
   "source": [
    "vis_params = {'bands' : 'classification'}\n",
    "url = classified.getDownloadUrl()"
   ]
  },
  {
   "cell_type": "code",
   "execution_count": 180,
   "metadata": {
    "collapsed": false,
    "deletable": true,
    "editable": true
   },
   "outputs": [],
   "source": [
    "import urllib, tempfile, zipfile\n",
    "def download_tiff(image, scale):\n",
    "    url = ee.data.makeDownloadUrl(ee.data.getDownloadId({\n",
    "        'image': image.serialize(),\n",
    "        'scale': '%d' % scale,\n",
    "        'filePerBand': 'false',\n",
    "        'name': 'data',\n",
    "    }))\n",
    "    local_zip, headers = urllib.urlretrieve(url)\n",
    "    with zipfile.ZipFile(local_zip) as local_zipfile:\n",
    "        return local_zipfile.extract('data.tif', tempfile.mkdtemp())"
   ]
  },
  {
   "cell_type": "code",
   "execution_count": 181,
   "metadata": {
    "collapsed": false,
    "deletable": true,
    "editable": true
   },
   "outputs": [],
   "source": [
    "filename = download_tiff(classified.clip(img.geometry()), scale=200)"
   ]
  },
  {
   "cell_type": "code",
   "execution_count": 182,
   "metadata": {
    "collapsed": false
   },
   "outputs": [
    {
     "data": {
      "text/plain": [
       "[<matplotlib.text.Text at 0x7f51e20715d0>,\n",
       " <matplotlib.text.Text at 0x7f51e207c9d0>]"
      ]
     },
     "execution_count": 182,
     "metadata": {},
     "output_type": "execute_result"
    },
    {
     "data": {
      "image/png": "[encoded data removed]",
      "text/plain": [
       "<matplotlib.figure.Figure at 0x7f51e2130190>"
      ]
     },
     "metadata": {},
     "output_type": "display_data"
    }
   ],
   "source": [
    "cmap = colors.ListedColormap(['red', 'blue'])\n",
    "bounds = [1, 1.5, 2]\n",
    "norm = colors.BoundaryNorm(bounds, cmap.N)\n",
    "with rasterio.open(filename) as r:\n",
    "    results = r.read(1)\n",
    "#print(results.shape)\n",
    "#results = np.stack([results[4], results[3], results[2]], axis=-1)\n",
    "#print(results.shape)\n",
    "im = plt.imshow(results, cmap=cmap, norm=norm)\n",
    "cb = plt.colorbar(im, shrink=0.5, label='Class label', ticks=[1, 2])\n",
    "cb.ax.set_yticklabels(['Not water', 'Water'])"
   ]
  },
  {
   "cell_type": "code",
   "execution_count": 183,
   "metadata": {
    "collapsed": true
   },
   "outputs": [],
   "source": [
    "omission = clipped.eq(ee.Number(2)).And(classified.neq(ee.Number(2))).multiply(ee.Number(-1))\n",
    "comission = clipped.neq(ee.Number(2)).And(classified.eq(ee.Number(2)))\n",
    "error = omission.add(comission)\n",
    "filename = download_tiff(error, scale=240)"
   ]
  },
  {
   "cell_type": "code",
   "execution_count": 184,
   "metadata": {
    "collapsed": false
   },
   "outputs": [
    {
     "data": {
      "text/plain": [
       "[<matplotlib.text.Text at 0x7f51e1effad0>,\n",
       " <matplotlib.text.Text at 0x7f51e1f33d10>]"
      ]
     },
     "execution_count": 184,
     "metadata": {},
     "output_type": "execute_result"
    },
    {
     "data": {
      "image/png": "[encoded data removed]",
      "text/plain": [
       "<matplotlib.figure.Figure at 0x7f51e21039d0>"
      ]
     },
     "metadata": {},
     "output_type": "display_data"
    }
   ],
   "source": [
    "with rasterio.open(filename) as r:\n",
    "    err = r.read(1)\n",
    "im = plt.imshow(err, cmap='RdBu_r') #, cmap=cmap, norm=norm)\n",
    "cb = plt.colorbar(im, shrink=0.5, ticks=[-1, 0, 1])\n",
    "cb.ax.set_yticklabels(['Omission', 'Correct', 'Comission'])"
   ]
  }
 ],
 "metadata": {
  "kernelspec": {
   "display_name": "Python 2",
   "language": "python",
   "name": "python2"
  },
  "language_info": {
   "codemirror_mode": {
    "name": "ipython",
    "version": 2
   },
   "file_extension": ".py",
   "mimetype": "text/x-python",
   "name": "python",
   "nbconvert_exporter": "python",
   "pygments_lexer": "ipython2",
   "version": "2.7.12"
  }
 },
 "nbformat": 4,
 "nbformat_minor": 2
}
