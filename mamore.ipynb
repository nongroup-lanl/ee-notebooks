{
 "cells": [
  {
   "cell_type": "code",
   "execution_count": 67,
   "metadata": {
    "collapsed": true,
    "deletable": true,
    "editable": true
   },
   "outputs": [],
   "source": [
    "import ee\n",
    "import rasterio\n",
    "import numpy as np\n",
    "import pandas as pd\n",
    "from pprint import pprint\n",
    "from IPython.display import display\n",
    "from IPython.display import Image\n",
    "import matplotlib.pyplot as plt\n",
    "from matplotlib import colors"
   ]
  },
  {
   "cell_type": "code",
   "execution_count": 58,
   "metadata": {
    "collapsed": true,
    "deletable": true,
    "editable": true
   },
   "outputs": [],
   "source": [
    "ee.Initialize()"
   ]
  },
  {
   "cell_type": "code",
   "execution_count": 59,
   "metadata": {
    "collapsed": true,
    "deletable": true,
    "editable": true
   },
   "outputs": [],
   "source": [
    "from channel_classifier.internal.ee_utils import add_labels, compute_error_image, get_landsat_images, get_landsat_composite"
   ]
  },
  {
   "cell_type": "code",
   "execution_count": 60,
   "metadata": {
    "collapsed": true,
    "deletable": true,
    "editable": true
   },
   "outputs": [],
   "source": [
    "def ndvi_l5(image):\n",
    "    return image.normalizedDifference(['B4', 'B3']).rename(['NDVI'])\n",
    "\n",
    "def ndvi_l8(image):\n",
    "    return image.normalizedDifference(['B5', 'B4']).rename(['NDVI'])"
   ]
  },
  {
   "cell_type": "code",
   "execution_count": 64,
   "metadata": {
    "collapsed": true
   },
   "outputs": [],
   "source": [
    "path, row = [231, 71] # Mamore\n",
    "bbox1 = [-63.89, -16.44, -63.47, -16.05]\n",
    "bbox2 = [-64.47, -16.71, -64.05, -16.41]\n",
    "start_date = '1984-01-01'\n",
    "end_date = '2018-01-01'"
   ]
  },
  {
   "cell_type": "code",
   "execution_count": 65,
   "metadata": {
    "collapsed": true
   },
   "outputs": [],
   "source": [
    "region = ee.Geometry.Rectangle(bbox1)\n",
    "background = ee.Geometry.Rectangle(bbox2)\n",
    "\n",
    "def set_mean(image):\n",
    "    d = image.reduceRegion(ee.Reducer.mean(), region)\n",
    "    return image.set(d)\n",
    "  \n",
    "def set_background(image):\n",
    "    d = image.reduceRegion(ee.Reducer.mean(), background)\n",
    "    return image.set(d)"
   ]
  },
  {
   "cell_type": "code",
   "execution_count": null,
   "metadata": {
    "collapsed": false
   },
   "outputs": [],
   "source": [
    "fig, ax = plt.subplots(1,1)\n",
    "\n",
    "images = ee.ImageCollection([])\n",
    "ndvis = ee.ImageCollection([])\n",
    "datasets = ['LANDSAT/LT05/C01/T1_TOA'] #, 'LANDSAT/LE07/C01/T1_TOA', 'LANDSAT/LC08/C01/T1_TOA']\n",
    "functions = [ndvi_l5] #, ndvi_l5, ndvi_l8]\n",
    "for dataset, ndvi in zip(datasets, functions):\n",
    "    x = get_landsat_images(path, row, start_date, end_date, dataset_path=dataset)\n",
    "    x = x.filter(ee.Filter.lt('CLOUD_COVER', 50))\n",
    "    images = ee.ImageCollection(x)\n",
    "    ndvis = images.map(ndvi).map(set_mean)\n",
    "    control = images.map(ndvi).map(set_background)\n",
    "    dates = images.aggregate_array('system:time_start').getInfo()\n",
    "    y1 = ndvis.aggregate_array('NDVI').getInfo()\n",
    "    y2 = control.aggregate_array('NDVI').getInfo()\n",
    "    if len(y1) > 0:\n",
    "        dates = pd.to_datetime(dates, unit='ms')\n",
    "        data1 = pd.DataFrame({'NDVI' : y1}, index=dates)\n",
    "        data2 = pd.DataFrame({'NDVI' : y2}, index=dates)\n",
    "        data1 = data1.groupby(pd.TimeGrouper('A')).mean()\n",
    "        data2 = data2.groupby(pd.TimeGrouper('A')).mean()\n",
    "        print(data1)\n",
    "        ax.plot(data1.index, data1['NDVI'], data2.index, data2['NDVI'], marker='s', markersize=5)\n",
    "plt.legend(['Mamore tributary', 'Background'])"
   ]
  },
  {
   "cell_type": "code",
   "execution_count": null,
   "metadata": {
    "collapsed": true
   },
   "outputs": [],
   "source": []
  },
  {
   "cell_type": "code",
   "execution_count": null,
   "metadata": {
    "collapsed": true
   },
   "outputs": [],
   "source": []
  }
 ],
 "metadata": {
  "kernelspec": {
   "display_name": "Python 2",
   "language": "python",
   "name": "python2"
  },
  "language_info": {
   "codemirror_mode": {
    "name": "ipython",
    "version": 2
   },
   "file_extension": ".py",
   "mimetype": "text/x-python",
   "name": "python",
   "nbconvert_exporter": "python",
   "pygments_lexer": "ipython2",
   "version": "2.7.12"
  }
 },
 "nbformat": 4,
 "nbformat_minor": 2
}
