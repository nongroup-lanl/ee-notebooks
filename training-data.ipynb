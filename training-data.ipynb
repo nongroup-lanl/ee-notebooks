{
 "cells": [
  {
   "cell_type": "code",
   "execution_count": 1,
   "metadata": {
    "collapsed": true,
    "deletable": true,
    "editable": true
   },
   "outputs": [],
   "source": [
    "import ee\n",
    "import os, shutil\n",
    "import rasterio\n",
    "import numpy as np\n",
    "from pprint import pprint\n",
    "from IPython.display import display\n",
    "from IPython.display import Image\n",
    "import matplotlib.pyplot as plt\n",
    "from matplotlib import colors"
   ]
  },
  {
   "cell_type": "code",
   "execution_count": 2,
   "metadata": {
    "collapsed": false,
    "deletable": true,
    "editable": true
   },
   "outputs": [],
   "source": [
    "from channel_classifier.internal.ee_utils import add_labels, add_cloud_score, add_cloud_label, remap_modis_labels, get_landsat_image\n",
    "from channel_classifier.internal.utils import download_tiff, read_image_list"
   ]
  },
  {
   "cell_type": "code",
   "execution_count": 3,
   "metadata": {
    "collapsed": false
   },
   "outputs": [],
   "source": [
    "import tempfile, urllib, zipfile\n",
    "def download_tiff(image, filename=None, scale=100):\n",
    "    if not filename:\n",
    "        filename = tempfile.mkdtemp()\n",
    "\n",
    "    url = ee.data.makeDownloadUrl(ee.data.getDownloadId({\n",
    "        'image': image.serialize(),\n",
    "        'scale': '{:d}'.format(scale),\n",
    "        'filePerBand': 'false',\n",
    "        'name': 'data',\n",
    "    }))\n",
    "    local_zip, headers = urllib.urlretrieve(url)\n",
    "    with zipfile.ZipFile(local_zip) as local_zipfile:\n",
    "        local_zipfile.extract('data.tif', '')\n",
    "        shutil.copyfile('data.tif', filename)\n",
    "    return filename"
   ]
  },
  {
   "cell_type": "code",
   "execution_count": 4,
   "metadata": {
    "collapsed": false,
    "deletable": true,
    "editable": true
   },
   "outputs": [],
   "source": [
    "ee.Initialize()"
   ]
  },
  {
   "cell_type": "code",
   "execution_count": 5,
   "metadata": {
    "collapsed": true,
    "deletable": true,
    "editable": true
   },
   "outputs": [],
   "source": [
    "datasets = {'LE7' : 'LANDSAT/LE07/C01/T1_TOA',\n",
    "            'LT5' : 'LANDSAT/LT05/C01/T1_TOA',\n",
    "           }"
   ]
  },
  {
   "cell_type": "code",
   "execution_count": 6,
   "metadata": {
    "collapsed": false,
    "deletable": true,
    "editable": true
   },
   "outputs": [],
   "source": [
    "image_list = read_image_list('imagelist.txt')"
   ]
  },
  {
   "cell_type": "code",
   "execution_count": 7,
   "metadata": {
    "collapsed": false,
    "deletable": true,
    "editable": true
   },
   "outputs": [
    {
     "name": "stdout",
     "output_type": "stream",
     "text": [
      "Downloaded images/LE7_20120402_007063.tif (cc: 31.0%)\n",
      "Downloaded images/LE7_20120402_007064.tif (cc: 31.0%)\n",
      "Image images/LE7_20090403_006064.tif is too cloudy (cc: 85.0%)\n",
      "Image images/LE7_20010404_007063.tif is too cloudy (cc: 78.0%)\n",
      "Downloaded images/LE7_20010404_007064.tif (cc: 35.0%)\n",
      "Image images/LE7_20150404_006064.tif is too cloudy (cc: 57.0%)\n",
      "Image images/LE7_20130405_007063.tif is too cloudy (cc: 62.0%)\n",
      "Image images/LE7_20020407_007064.tif is too cloudy (cc: 83.0%)\n",
      "Downloaded images/LE7_20080407_007063.tif (cc: 7.0%)\n",
      "Downloaded images/LE7_20080407_007064.tif (cc: 39.0%)\n",
      "Image images/LE7_20140408_007064.tif is too cloudy (cc: 83.0%)\n",
      "Image images/LE7_20000410_006064.tif is too cloudy (cc: 58.0%)\n",
      "Image images/LE7_20030410_007064.tif is too cloudy (cc: 76.0%)\n",
      "Image images/LE7_20060411_006064.tif is too cloudy (cc: 63.0%)\n",
      "Downloaded images/LE7_20040412_007064.tif (cc: 37.0%)\n",
      "Downloaded images/LE7_20100413_007063.tif (cc: 47.0%)\n",
      "Image images/LE7_20100413_007064.tif is too cloudy (cc: 59.0%)\n",
      "Image images/LE7_20070414_006064.tif is too cloudy (cc: 89.0%)\n",
      "Downloaded images/LE7_20140417_006064.tif (cc: 42.0%)\n",
      "Image images/LE7_20120418_007063.tif is too cloudy (cc: 63.0%)\n",
      "Image images/LE7_20090419_006064.tif is too cloudy (cc: 66.0%)\n",
      "Image images/LE7_20010420_007063.tif is too cloudy (cc: 77.0%)\n",
      "Downloaded images/LE7_20010420_007064.tif (cc: 34.0%)\n",
      "Image images/LE7_20130421_007063.tif is too cloudy (cc: 76.0%)\n",
      "Downloaded images/LE7_20130421_007064.tif (cc: 42.0%)\n",
      "Downloaded images/LE7_20100422_006064.tif (cc: 24.0%)\n",
      "Image images/LE7_20020423_007063.tif is too cloudy (cc: 97.0%)\n"
     ]
    },
    {
     "ename": "EEException",
     "evalue": "Image.load: Image asset 'MODIS/006/MCD12Q1/2000_01_01' not found.",
     "output_type": "error",
     "traceback": [
      "\u001b[0;31m\u001b[0m",
      "\u001b[0;31mEEException\u001b[0mTraceback (most recent call last)",
      "\u001b[0;32m<ipython-input-7-8003a0f73cde>\u001b[0m in \u001b[0;36m<module>\u001b[0;34m()\u001b[0m\n\u001b[1;32m     12\u001b[0m         \u001b[0mcc\u001b[0m \u001b[0;34m=\u001b[0m \u001b[0mim\u001b[0m\u001b[0;34m.\u001b[0m\u001b[0mget\u001b[0m\u001b[0;34m(\u001b[0m\u001b[0;34m'CLOUD_COVER'\u001b[0m\u001b[0;34m)\u001b[0m\u001b[0;34m.\u001b[0m\u001b[0mgetInfo\u001b[0m\u001b[0;34m(\u001b[0m\u001b[0;34m)\u001b[0m\u001b[0;34m\u001b[0m\u001b[0m\n\u001b[1;32m     13\u001b[0m         \u001b[0;32mif\u001b[0m \u001b[0mcc\u001b[0m \u001b[0;34m<\u001b[0m \u001b[0mthresh\u001b[0m\u001b[0;34m:\u001b[0m\u001b[0;34m\u001b[0m\u001b[0m\n\u001b[0;32m---> 14\u001b[0;31m             \u001b[0mim\u001b[0m \u001b[0;34m=\u001b[0m \u001b[0madd_labels\u001b[0m\u001b[0;34m(\u001b[0m\u001b[0mim\u001b[0m\u001b[0;34m)\u001b[0m\u001b[0;34m\u001b[0m\u001b[0m\n\u001b[0m\u001b[1;32m     15\u001b[0m             \u001b[0mim\u001b[0m \u001b[0;34m=\u001b[0m \u001b[0mremap_modis_labels\u001b[0m\u001b[0;34m(\u001b[0m\u001b[0mim\u001b[0m\u001b[0;34m)\u001b[0m\u001b[0;34m\u001b[0m\u001b[0m\n\u001b[1;32m     16\u001b[0m             \u001b[0mim\u001b[0m \u001b[0;34m=\u001b[0m \u001b[0madd_cloud_score\u001b[0m\u001b[0;34m(\u001b[0m\u001b[0mim\u001b[0m\u001b[0;34m)\u001b[0m\u001b[0;34m\u001b[0m\u001b[0m\n",
      "\u001b[0;32m/content/datalab/notebooks/channel_classifier/internal/ee_utils.pyc\u001b[0m in \u001b[0;36madd_labels\u001b[0;34m(image, year, month)\u001b[0m\n\u001b[1;32m     51\u001b[0m         \u001b[0mstacked\u001b[0m \u001b[0;34m=\u001b[0m \u001b[0mstacked\u001b[0m\u001b[0;34m.\u001b[0m\u001b[0madd\u001b[0m\u001b[0;34m(\u001b[0m\u001b[0mwater\u001b[0m\u001b[0;34m.\u001b[0m\u001b[0meq\u001b[0m\u001b[0;34m(\u001b[0m\u001b[0mee\u001b[0m\u001b[0;34m.\u001b[0m\u001b[0mNumber\u001b[0m\u001b[0;34m(\u001b[0m\u001b[0mk\u001b[0m\u001b[0;34m)\u001b[0m\u001b[0;34m)\u001b[0m\u001b[0;34m)\u001b[0m\u001b[0;34m\u001b[0m\u001b[0m\n\u001b[1;32m     52\u001b[0m \u001b[0;34m\u001b[0m\u001b[0m\n\u001b[0;32m---> 53\u001b[0;31m     \u001b[0mnew_bands\u001b[0m \u001b[0;34m=\u001b[0m \u001b[0mstacked\u001b[0m\u001b[0;34m.\u001b[0m\u001b[0mbandNames\u001b[0m\u001b[0;34m(\u001b[0m\u001b[0;34m)\u001b[0m\u001b[0;34m.\u001b[0m\u001b[0mgetInfo\u001b[0m\u001b[0;34m(\u001b[0m\u001b[0;34m)\u001b[0m\u001b[0;34m\u001b[0m\u001b[0m\n\u001b[0m\u001b[1;32m     54\u001b[0m     \u001b[0mnew_bands\u001b[0m\u001b[0;34m.\u001b[0m\u001b[0mremove\u001b[0m\u001b[0;34m(\u001b[0m\u001b[0;34m'LC_Type1'\u001b[0m\u001b[0;34m)\u001b[0m\u001b[0;34m\u001b[0m\u001b[0m\n\u001b[1;32m     55\u001b[0m     \u001b[0mnew_bands\u001b[0m\u001b[0;34m.\u001b[0m\u001b[0mappend\u001b[0m\u001b[0;34m(\u001b[0m\u001b[0;34m'label'\u001b[0m\u001b[0;34m)\u001b[0m\u001b[0;34m\u001b[0m\u001b[0m\n",
      "\u001b[0;32m/src/earthengine-api/python/ee/computedobject.pyc\u001b[0m in \u001b[0;36mgetInfo\u001b[0;34m(self)\u001b[0m\n\u001b[1;32m     93\u001b[0m       \u001b[0mThe\u001b[0m \u001b[0mobject\u001b[0m \u001b[0mcan\u001b[0m \u001b[0mevaluate\u001b[0m \u001b[0mto\u001b[0m \u001b[0manything\u001b[0m\u001b[0;34m.\u001b[0m\u001b[0;34m\u001b[0m\u001b[0m\n\u001b[1;32m     94\u001b[0m     \"\"\"\n\u001b[0;32m---> 95\u001b[0;31m     \u001b[0;32mreturn\u001b[0m \u001b[0mdata\u001b[0m\u001b[0;34m.\u001b[0m\u001b[0mgetValue\u001b[0m\u001b[0;34m(\u001b[0m\u001b[0;34m{\u001b[0m\u001b[0;34m'json'\u001b[0m\u001b[0;34m:\u001b[0m \u001b[0mself\u001b[0m\u001b[0;34m.\u001b[0m\u001b[0mserialize\u001b[0m\u001b[0;34m(\u001b[0m\u001b[0;34m)\u001b[0m\u001b[0;34m}\u001b[0m\u001b[0;34m)\u001b[0m\u001b[0;34m\u001b[0m\u001b[0m\n\u001b[0m\u001b[1;32m     96\u001b[0m \u001b[0;34m\u001b[0m\u001b[0m\n\u001b[1;32m     97\u001b[0m   \u001b[0;32mdef\u001b[0m \u001b[0mencode\u001b[0m\u001b[0;34m(\u001b[0m\u001b[0mself\u001b[0m\u001b[0;34m,\u001b[0m \u001b[0mencoder\u001b[0m\u001b[0;34m)\u001b[0m\u001b[0;34m:\u001b[0m\u001b[0;34m\u001b[0m\u001b[0m\n",
      "\u001b[0;32m/src/earthengine-api/python/ee/data.pyc\u001b[0m in \u001b[0;36mgetValue\u001b[0;34m(params)\u001b[0m\n\u001b[1;32m    253\u001b[0m   \"\"\"\n\u001b[1;32m    254\u001b[0m   \u001b[0mparams\u001b[0m\u001b[0;34m[\u001b[0m\u001b[0;34m'json_format'\u001b[0m\u001b[0;34m]\u001b[0m \u001b[0;34m=\u001b[0m \u001b[0;34m'v2'\u001b[0m\u001b[0;34m\u001b[0m\u001b[0m\n\u001b[0;32m--> 255\u001b[0;31m   \u001b[0;32mreturn\u001b[0m \u001b[0msend_\u001b[0m\u001b[0;34m(\u001b[0m\u001b[0;34m'/value'\u001b[0m\u001b[0;34m,\u001b[0m \u001b[0mparams\u001b[0m\u001b[0;34m)\u001b[0m\u001b[0;34m\u001b[0m\u001b[0m\n\u001b[0m\u001b[1;32m    256\u001b[0m \u001b[0;34m\u001b[0m\u001b[0m\n\u001b[1;32m    257\u001b[0m \u001b[0;34m\u001b[0m\u001b[0m\n",
      "\u001b[0;32m/src/earthengine-api/python/ee/data.pyc\u001b[0m in \u001b[0;36msend_\u001b[0;34m(path, params, opt_method, opt_raw)\u001b[0m\n\u001b[1;32m    795\u001b[0m       \u001b[0;32mraise\u001b[0m \u001b[0mee_exception\u001b[0m\u001b[0;34m.\u001b[0m\u001b[0mEEException\u001b[0m\u001b[0;34m(\u001b[0m\u001b[0;34m'Invalid JSON: %s'\u001b[0m \u001b[0;34m%\u001b[0m \u001b[0mcontent\u001b[0m\u001b[0;34m)\u001b[0m\u001b[0;34m\u001b[0m\u001b[0m\n\u001b[1;32m    796\u001b[0m     \u001b[0;32mif\u001b[0m \u001b[0;34m'error'\u001b[0m \u001b[0;32min\u001b[0m \u001b[0mjson_content\u001b[0m\u001b[0;34m:\u001b[0m\u001b[0;34m\u001b[0m\u001b[0m\n\u001b[0;32m--> 797\u001b[0;31m       \u001b[0;32mraise\u001b[0m \u001b[0mee_exception\u001b[0m\u001b[0;34m.\u001b[0m\u001b[0mEEException\u001b[0m\u001b[0;34m(\u001b[0m\u001b[0mjson_content\u001b[0m\u001b[0;34m[\u001b[0m\u001b[0;34m'error'\u001b[0m\u001b[0;34m]\u001b[0m\u001b[0;34m[\u001b[0m\u001b[0;34m'message'\u001b[0m\u001b[0;34m]\u001b[0m\u001b[0;34m)\u001b[0m\u001b[0;34m\u001b[0m\u001b[0m\n\u001b[0m\u001b[1;32m    798\u001b[0m     \u001b[0;32mif\u001b[0m \u001b[0;34m'data'\u001b[0m \u001b[0;32mnot\u001b[0m \u001b[0;32min\u001b[0m \u001b[0mcontent\u001b[0m\u001b[0;34m:\u001b[0m\u001b[0;34m\u001b[0m\u001b[0m\n\u001b[1;32m    799\u001b[0m       \u001b[0;32mraise\u001b[0m \u001b[0mee_exception\u001b[0m\u001b[0;34m.\u001b[0m\u001b[0mEEException\u001b[0m\u001b[0;34m(\u001b[0m\u001b[0;34m'Malformed response: '\u001b[0m \u001b[0;34m+\u001b[0m \u001b[0mstr\u001b[0m\u001b[0;34m(\u001b[0m\u001b[0mcontent\u001b[0m\u001b[0;34m)\u001b[0m\u001b[0;34m)\u001b[0m\u001b[0;34m\u001b[0m\u001b[0m\n",
      "\u001b[0;31mEEException\u001b[0m: Image.load: Image asset 'MODIS/006/MCD12Q1/2000_01_01' not found."
     ]
    }
   ],
   "source": [
    "thresh = 50\n",
    "filenames = []\n",
    "for sat, path, row, date in image_list[0:100]:\n",
    "    dataset_path = datasets[sat]\n",
    "    year, month, day = map(int, date.split('-'))\n",
    "    filename = 'images/{}_{}{:02d}{:02d}_{:03d}{:03d}.tif'.format(sat, year, month, day, path, row)\n",
    "    \n",
    "    #try:\n",
    "    im = get_landsat_image(path, row, year, month, day, dataset_path=dataset_path)\n",
    "    \n",
    "    if im.getInfo() is not None:\n",
    "        cc = im.get('CLOUD_COVER').getInfo()\n",
    "        if cc < thresh:\n",
    "            im = add_labels(im)\n",
    "            im = remap_modis_labels(im)\n",
    "            im = add_cloud_score(im)\n",
    "            im = add_cloud_label(im)\n",
    "            download_tiff(im, filename, scale=240)\n",
    "            print('Downloaded ' + filename + ' (cc: {:d}%)'.format(cc))\n",
    "        else:\n",
    "            print('Image ' + filename + ' is too cloudy (cc: {:d}%)'.format(cc))\n",
    "            \n",
    "    #except:\n",
    "    #    print('Image {} failed'.format(filename))"
   ]
  },
  {
   "cell_type": "markdown",
   "metadata": {
    "deletable": true,
    "editable": true
   },
   "source": []
  }
 ],
 "metadata": {
  "kernelspec": {
   "display_name": "Python 2",
   "language": "python",
   "name": "python2"
  }
 },
 "nbformat": 4,
 "nbformat_minor": 2
}
