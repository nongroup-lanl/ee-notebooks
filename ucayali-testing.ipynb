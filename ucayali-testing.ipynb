{
 "cells": [
  {
   "cell_type": "code",
   "execution_count": 1,
   "metadata": {
    "collapsed": true
   },
   "outputs": [],
   "source": [
    "import ee\n",
    "import os, shutil\n",
    "import rasterio\n",
    "import numpy as np\n",
    "from pprint import pprint\n",
    "from IPython.display import display\n",
    "from IPython.display import Image\n",
    "import matplotlib.pyplot as plt\n",
    "from matplotlib import colors"
   ]
  },
  {
   "cell_type": "code",
   "execution_count": 2,
   "metadata": {
    "collapsed": true
   },
   "outputs": [],
   "source": [
    "from channel_classifier.internal.ee_utils import add_labels, compute_error_image, get_landsat_image, get_landsat_composite\n",
    "from channel_classifier.internal.utils import download_rgb_image, download_tiff, read_image_list"
   ]
  },
  {
   "cell_type": "code",
   "execution_count": 3,
   "metadata": {
    "collapsed": false
   },
   "outputs": [],
   "source": [
    "import tempfile, urllib, zipfile\n",
    "def download_tiff(image, filename, scale):\n",
    "    url = ee.data.makeDownloadUrl(ee.data.getDownloadId({\n",
    "        'image': image.serialize(),\n",
    "        'scale': '{:d}'.format(scale),\n",
    "        'filePerBand': 'false',\n",
    "        'name': 'data',\n",
    "    }))\n",
    "    local_zip, headers = urllib.urlretrieve(url)\n",
    "    with zipfile.ZipFile(local_zip) as local_zipfile:\n",
    "        local_zipfile.extract('data.tif', '')\n",
    "        shutil.copyfile('data.tif', filename)\n",
    "    return filename"
   ]
  },
  {
   "cell_type": "code",
   "execution_count": 24,
   "metadata": {
    "collapsed": true
   },
   "outputs": [],
   "source": [
    "def fix_image(filename):\n",
    "    with rasterio.open(filename) as r:\n",
    "        image = r.read()\n",
    "        profile = r.profile\n",
    "        profile.update(nodata=-9999)\n",
    "        image[np.isnan(image)] = profile['nodata']\n",
    "        image[np.isinf(image)] = profile['nodata']\n",
    "        red = image[2]\n",
    "        green = image[1]\n",
    "        blue = image[0]\n",
    "    with rasterio.open(filename, 'w', **profile) as out:\n",
    "        out.write(red, 1)\n",
    "        out.write(green, 2)\n",
    "        out.write(blue, 3)"
   ]
  },
  {
   "cell_type": "code",
   "execution_count": 5,
   "metadata": {
    "collapsed": false
   },
   "outputs": [],
   "source": [
    "ee.Initialize()"
   ]
  },
  {
   "cell_type": "code",
   "execution_count": 6,
   "metadata": {
    "collapsed": true
   },
   "outputs": [],
   "source": [
    "datasets = {'LE7' : 'LANDSAT/LE07/C01/T1_TOA',\n",
    "            'LT5' : 'LANDSAT/LT05/C01/T1_TOA',\n",
    "           }"
   ]
  },
  {
   "cell_type": "code",
   "execution_count": 7,
   "metadata": {
    "collapsed": false
   },
   "outputs": [],
   "source": [
    "image_list = read_image_list('imagelist.txt')"
   ]
  },
  {
   "cell_type": "code",
   "execution_count": 25,
   "metadata": {
    "collapsed": false
   },
   "outputs": [
    {
     "name": "stdout",
     "output_type": "stream",
     "text": [
      "Image pan/LE7_201441_664.tif failed\n",
      "Image pan/LE7_200642_764.tif failed\n",
      "Image pan/LE7_200343_664.tif failed\n",
      "Image pan/LE7_201345_764.tif failed\n",
      "Image pan/LE7_200247_763.tif failed\n",
      "Image pan/LE7_201448_763.tif failed\n",
      "Image pan/LE7_201149_664.tif failed\n",
      "Image pan/LE7_2003410_763.tif failed\n",
      "Image pan/LE7_2012411_664.tif failed\n",
      "Image pan/LE7_2015411_763.tif failed\n",
      "Image pan/LE7_2015411_764.tif failed\n",
      "Image pan/LE7_2001413_664.tif failed\n",
      "Image pan/LE7_2013414_664.tif failed\n",
      "Image pan/LE7_2011416_763.tif failed\n",
      "Image pan/LE7_2011416_764.tif failed\n",
      "Image pan/LE7_2012418_764.tif failed\n",
      "Image pan/LE7_2015420_664.tif failed\n",
      "Image pan/LE7_2004421_664.tif failed\n",
      "Image pan/LE7_2002423_764.tif failed\n",
      "Image pan/LE7_2014424_763.tif failed\n",
      "Image pan/LE7_2014424_764.tif failed\n",
      "Image pan/LE7_2011425_664.tif failed\n",
      "Image pan/LE7_2003426_764.tif failed\n",
      "Image pan/LE7_2009426_763.tif failed\n",
      "Image pan/LE7_2009426_764.tif failed\n",
      "Image pan/LE7_2012427_664.tif failed\n",
      "Image pan/LE7_2015427_764.tif failed\n",
      "Image pan/LE7_2013430_664.tif failed\n",
      "Image pan/LE7_201281_664.tif failed\n",
      "Downloaded pan/LE7_200482_763.tif (cc: 0.0%)\n",
      "Downloaded pan/LE7_200286_664.tif (cc: 0.0%)\n",
      "Downloaded pan/LE7_201288_763.tif (cc: 0.0%)\n",
      "Image pan/LE7_200389_664.tif failed\n",
      "Downloaded pan/LE7_2004811_664.tif (cc: 0.0%)\n",
      "Image pan/LE7_2013811_764.tif failed\n",
      "Image pan/LE7_2002813_764.tif failed\n",
      "Image pan/LE7_2011815_664.tif failed\n",
      "Image pan/LE7_2000816_664.tif failed\n",
      "Downloaded pan/LE7_2009816_763.tif (cc: 0.0%)\n",
      "Image pan/LE7_2012817_664.tif failed\n",
      "Downloaded pan/LE7_2010819_763.tif (cc: 0.0%)\n",
      "Downloaded pan/LE7_1999821_763.tif (cc: 0.0%)\n",
      "Downloaded pan/LE7_2005821_763.tif (cc: 1.0%)\n",
      "Image pan/LE7_2002822_664.tif failed\n"
     ]
    }
   ],
   "source": [
    "thresh = 5\n",
    "filenames = []\n",
    "for sat, path, row, date in image_list[0:100]:\n",
    "    dataset_path = datasets[sat]\n",
    "    year, month, day = map(int, date.split('-'))\n",
    "    filename = 'pan/{}_{}{}{}_{}{}.tif'.format(sat, year, month, day, path, row)\n",
    "    \n",
    "    try:\n",
    "        im = get_landsat_image(path, row, year, month, day, dataset_path=dataset_path)\n",
    "        cc = im.get('CLOUD_COVER').getInfo()\n",
    "        if cc < thresh:\n",
    "            download_tiff(im.select(['B1', 'B2', 'B3']), filename, scale=120)\n",
    "            print('Downloaded ' + filename + ' (cc: {}%)'.format(cc))\n",
    "            fix_image(filename)\n",
    "    except:\n",
    "        print('Image {} failed'.format(filename))"
   ]
  },
  {
   "cell_type": "markdown",
   "metadata": {},
   "source": []
  }
 ],
 "metadata": {
  "kernelspec": {
   "display_name": "Python 2",
   "language": "python",
   "name": "python2"
  },
  "language_info": {
   "codemirror_mode": {
    "name": "ipython",
    "version": 2
   },
   "file_extension": ".py",
   "mimetype": "text/x-python",
   "name": "python",
   "nbconvert_exporter": "python",
   "pygments_lexer": "ipython2",
   "version": "2.7.12"
  }
 },
 "nbformat": 4,
 "nbformat_minor": 2
}
